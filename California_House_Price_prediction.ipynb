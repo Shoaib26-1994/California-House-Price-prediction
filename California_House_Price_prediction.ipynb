{
  "nbformat": 4,
  "nbformat_minor": 0,
  "metadata": {
    "colab": {
      "provenance": [],
      "include_colab_link": true
    },
    "kernelspec": {
      "name": "python3",
      "display_name": "Python 3"
    },
    "language_info": {
      "name": "python"
    }
  },
  "cells": [
    {
      "cell_type": "markdown",
      "metadata": {
        "id": "view-in-github",
        "colab_type": "text"
      },
      "source": [
        "<a href=\"https://colab.research.google.com/github/Shoaib26-1994/California-House-Price-prediction/blob/main/California_House_Price_prediction.ipynb\" target=\"_parent\"><img src=\"https://colab.research.google.com/assets/colab-badge.svg\" alt=\"Open In Colab\"/></a>"
      ]
    },
    {
      "cell_type": "markdown",
      "source": [
        "# California (U.S.A) House Price Prediction Model"
      ],
      "metadata": {
        "id": "W2gUd5Qgcd5s"
      }
    },
    {
      "cell_type": "markdown",
      "source": [
        "Importing Library"
      ],
      "metadata": {
        "id": "5zB7wawtcnN2"
      }
    },
    {
      "cell_type": "code",
      "execution_count": null,
      "metadata": {
        "id": "fdxtscghLipz"
      },
      "outputs": [],
      "source": [
        "import numpy as np\n",
        "import pandas as pd\n",
        "import matplotlib.pyplot as plt\n",
        "import seaborn as sns"
      ]
    },
    {
      "cell_type": "markdown",
      "source": [
        "# Data Set Loading"
      ],
      "metadata": {
        "id": "HWTWgsIxctdx"
      }
    },
    {
      "cell_type": "code",
      "source": [
        "from sklearn.datasets import fetch_california_housing\n",
        "house_price_dataset = fetch_california_housing()"
      ],
      "metadata": {
        "id": "OUOapUo2L-U2"
      },
      "execution_count": null,
      "outputs": []
    },
    {
      "cell_type": "markdown",
      "source": [
        "Data Set View"
      ],
      "metadata": {
        "id": "k-jy9InAcx2U"
      }
    },
    {
      "cell_type": "code",
      "source": [
        "house_price_dataset"
      ],
      "metadata": {
        "id": "sG8ngnChL-Xy"
      },
      "execution_count": null,
      "outputs": []
    },
    {
      "cell_type": "markdown",
      "source": [
        "Type of data set"
      ],
      "metadata": {
        "id": "SN_4ef6mc2uB"
      }
    },
    {
      "cell_type": "code",
      "source": [
        "type(house_price_dataset)"
      ],
      "metadata": {
        "id": "StXuQ-0yL-ap"
      },
      "execution_count": null,
      "outputs": []
    },
    {
      "cell_type": "markdown",
      "source": [
        "Keys in data set"
      ],
      "metadata": {
        "id": "VgBgF1x2c5cN"
      }
    },
    {
      "cell_type": "code",
      "source": [
        "house_price_dataset.keys()"
      ],
      "metadata": {
        "id": "3lKeVLBBL-d9"
      },
      "execution_count": null,
      "outputs": []
    },
    {
      "cell_type": "markdown",
      "source": [
        "Description of Data set"
      ],
      "metadata": {
        "id": "elrb5YfbdAkx"
      }
    },
    {
      "cell_type": "code",
      "source": [
        "print(house_price_dataset['DESCR'])"
      ],
      "metadata": {
        "id": "MLJT1X2_L-fo"
      },
      "execution_count": null,
      "outputs": []
    },
    {
      "cell_type": "code",
      "source": [
        "print(house_price_dataset['target_names'])"
      ],
      "metadata": {
        "id": "bseZi3aKL-i6"
      },
      "execution_count": null,
      "outputs": []
    },
    {
      "cell_type": "markdown",
      "source": [
        "# Converting Bunch Data Set to Pandas DataFrame"
      ],
      "metadata": {
        "id": "QMjUraB3dR4j"
      }
    },
    {
      "cell_type": "code",
      "source": [
        "house_price_df = pd.DataFrame(house_price_dataset.data, columns = house_price_dataset.feature_names)"
      ],
      "metadata": {
        "id": "_TygYkzrM7vb"
      },
      "execution_count": null,
      "outputs": []
    },
    {
      "cell_type": "code",
      "source": [
        "house_price_df"
      ],
      "metadata": {
        "id": "UkkqfZ2wM79I"
      },
      "execution_count": null,
      "outputs": []
    },
    {
      "cell_type": "markdown",
      "source": [
        "# Target of Data set"
      ],
      "metadata": {
        "id": "g4emCvpzdFV-"
      }
    },
    {
      "cell_type": "code",
      "source": [
        "house_price_df['price_of_house'] = house_price_dataset.target"
      ],
      "metadata": {
        "id": "U3-FBNzoNgmM"
      },
      "execution_count": null,
      "outputs": []
    },
    {
      "cell_type": "code",
      "source": [
        "house_price_df"
      ],
      "metadata": {
        "id": "YCd-bRQ-Ngq3"
      },
      "execution_count": null,
      "outputs": []
    },
    {
      "cell_type": "code",
      "source": [
        "# house_price_dataset_df = pd.DataFrame(data = np.c_[house_price_dataset['data'],house_price_dataset['target']],\n",
        "                                      #columns = np.append(house_price_dataset['feature_names'], ['Price']))"
      ],
      "metadata": {
        "id": "UQuwWHP1L-q_"
      },
      "execution_count": null,
      "outputs": []
    },
    {
      "cell_type": "markdown",
      "source": [
        "#  View Our Data Set"
      ],
      "metadata": {
        "id": "NFFj_Mm0dgZT"
      }
    },
    {
      "cell_type": "code",
      "source": [
        "house_price_df.head()"
      ],
      "metadata": {
        "id": "cE_0qBl4L-ui"
      },
      "execution_count": null,
      "outputs": []
    },
    {
      "cell_type": "markdown",
      "source": [
        "Creating a copy of Data set"
      ],
      "metadata": {
        "id": "mW8abWU3dmB4"
      }
    },
    {
      "cell_type": "code",
      "source": [
        "hsp_df = house_price_df.copy()"
      ],
      "metadata": {
        "id": "ufuN_YPoL-xq"
      },
      "execution_count": null,
      "outputs": []
    },
    {
      "cell_type": "markdown",
      "source": [
        "# Information About Our Data Set"
      ],
      "metadata": {
        "id": "cbaUdWWydrbd"
      }
    },
    {
      "cell_type": "code",
      "source": [
        "hsp_df.info()"
      ],
      "metadata": {
        "id": "4_j7poVDlSIY"
      },
      "execution_count": null,
      "outputs": []
    },
    {
      "cell_type": "markdown",
      "source": [
        "# Cheching Null Values"
      ],
      "metadata": {
        "id": "6T51Cdhbdy8p"
      }
    },
    {
      "cell_type": "code",
      "source": [
        "hsp_df.isnull().sum()"
      ],
      "metadata": {
        "id": "8bKlFhiplY8B"
      },
      "execution_count": null,
      "outputs": []
    },
    {
      "cell_type": "markdown",
      "source": [
        "# Checking Duplicated Values"
      ],
      "metadata": {
        "id": "eeJ3UE0Pd2JR"
      }
    },
    {
      "cell_type": "code",
      "source": [
        "hsp_df.duplicated().sum()"
      ],
      "metadata": {
        "id": "oAmBzlo8lZGr"
      },
      "execution_count": null,
      "outputs": []
    },
    {
      "cell_type": "markdown",
      "source": [
        "# Data Set Numarical Features Description"
      ],
      "metadata": {
        "id": "j0fzISmed6PW"
      }
    },
    {
      "cell_type": "code",
      "source": [
        "hsp_df.describe()"
      ],
      "metadata": {
        "id": "ADSK3Qu9lZIv"
      },
      "execution_count": null,
      "outputs": []
    },
    {
      "cell_type": "markdown",
      "source": [
        "# Correlation in Data Set Feature"
      ],
      "metadata": {
        "id": "z0DYrMvveC3s"
      }
    },
    {
      "cell_type": "code",
      "source": [
        "hsp_df.corr()"
      ],
      "metadata": {
        "id": "nUcv6dQnlZLo"
      },
      "execution_count": null,
      "outputs": []
    },
    {
      "cell_type": "markdown",
      "source": [
        "Understanding the correlation between various features in the dataset"
      ],
      "metadata": {
        "id": "cSkQJxUOedso"
      }
    },
    {
      "cell_type": "markdown",
      "source": [
        "1. Positive Correlation\n",
        "\n",
        "2. Negative Correlation"
      ],
      "metadata": {
        "id": "pUpfaORGegnJ"
      }
    },
    {
      "cell_type": "markdown",
      "source": [
        "# Creating Heatmap For Corelation"
      ],
      "metadata": {
        "id": "kxFU3FhMeH0G"
      }
    },
    {
      "cell_type": "code",
      "source": [
        "plt.figure(figsize = (10,5))\n",
        "sns.heatmap(hsp_df.corr(), annot= True, fmt = '.2f')"
      ],
      "metadata": {
        "id": "M37fmIOxlZPt"
      },
      "execution_count": null,
      "outputs": []
    },
    {
      "cell_type": "code",
      "source": [
        "'''Attribute Information:\n",
        "        - MedInc        median income in block group\n",
        "        - HouseAge      median house age in block group\n",
        "        - AveRooms      average number of rooms per household\n",
        "        - AveBedrms     average number of bedrooms per household\n",
        "        - Population    block group population\n",
        "        - AveOccup      average number of household members\n",
        "        - Latitude      block group latitude\n",
        "        - Longitude     block group longitude'''"
      ],
      "metadata": {
        "id": "fLyxGKPClZSL"
      },
      "execution_count": null,
      "outputs": []
    },
    {
      "cell_type": "markdown",
      "source": [
        "#Splitting the Data and Target"
      ],
      "metadata": {
        "id": "bTNEfFneel9m"
      }
    },
    {
      "cell_type": "markdown",
      "source": [
        "# Dependent and Independent Varaibels"
      ],
      "metadata": {
        "id": "i8y4ArpelZUw"
      }
    },
    {
      "cell_type": "code",
      "source": [
        "X = hsp_df.drop(['price_of_house'], axis = 1)"
      ],
      "metadata": {
        "id": "Lg1IB8CHlZXQ"
      },
      "execution_count": null,
      "outputs": []
    },
    {
      "cell_type": "code",
      "source": [
        "X.head()"
      ],
      "metadata": {
        "id": "-I-bWt33lZYp"
      },
      "execution_count": null,
      "outputs": []
    },
    {
      "cell_type": "code",
      "source": [
        "Y = hsp_df['price_of_house']"
      ],
      "metadata": {
        "id": "ZaBpYxghlZaR"
      },
      "execution_count": null,
      "outputs": []
    },
    {
      "cell_type": "code",
      "source": [
        "Y.head()"
      ],
      "metadata": {
        "id": "OX0a8FhUlZcE"
      },
      "execution_count": null,
      "outputs": []
    },
    {
      "cell_type": "markdown",
      "source": [
        "# Splitting the Data into Training data and Test data"
      ],
      "metadata": {
        "id": "72uMmMudeU7s"
      }
    },
    {
      "cell_type": "code",
      "source": [
        "from sklearn.model_selection import  train_test_split"
      ],
      "metadata": {
        "id": "UFxfKqAXnyAC"
      },
      "execution_count": null,
      "outputs": []
    },
    {
      "cell_type": "code",
      "source": [
        "x_train,x_test,y_train,y_test = train_test_split(X,Y ,test_size = 0.2, random_state = 2)"
      ],
      "metadata": {
        "id": "1eIAV8RvlZfp"
      },
      "execution_count": null,
      "outputs": []
    },
    {
      "cell_type": "code",
      "source": [
        "x_train.head()"
      ],
      "metadata": {
        "id": "CuvznPdtoRSr"
      },
      "execution_count": null,
      "outputs": []
    },
    {
      "cell_type": "code",
      "source": [
        "x_test.head()"
      ],
      "metadata": {
        "id": "A2JmP93RoV3I"
      },
      "execution_count": null,
      "outputs": []
    },
    {
      "cell_type": "code",
      "source": [
        "y_train.head()"
      ],
      "metadata": {
        "id": "-OO8ZowroWGE"
      },
      "execution_count": null,
      "outputs": []
    },
    {
      "cell_type": "code",
      "source": [
        "y_test.head()"
      ],
      "metadata": {
        "id": "06_zcibJoWI3"
      },
      "execution_count": null,
      "outputs": []
    },
    {
      "cell_type": "code",
      "source": [
        "print(X.shape, x_train.shape, x_test.shape)"
      ],
      "metadata": {
        "id": "QFzQ1vjsoWLR"
      },
      "execution_count": null,
      "outputs": []
    },
    {
      "cell_type": "markdown",
      "source": [
        "# Model Training"
      ],
      "metadata": {
        "id": "tuVB9vOoe3dE"
      }
    },
    {
      "cell_type": "markdown",
      "source": [
        "# XGBRegressor"
      ],
      "metadata": {
        "id": "d0mlt--ge7pz"
      }
    },
    {
      "cell_type": "code",
      "source": [
        "from xgboost import XGBRegressor"
      ],
      "metadata": {
        "id": "V2XTozHnoWTY"
      },
      "execution_count": null,
      "outputs": []
    },
    {
      "cell_type": "code",
      "source": [
        "model_01 = XGBRegressor()"
      ],
      "metadata": {
        "id": "qlGz0u5ioWaL"
      },
      "execution_count": null,
      "outputs": []
    },
    {
      "cell_type": "code",
      "source": [
        "model_01.fit(x_train,y_train)"
      ],
      "metadata": {
        "id": "BmyaMGvAoWhM"
      },
      "execution_count": null,
      "outputs": []
    },
    {
      "cell_type": "markdown",
      "source": [
        "# Model Evaluation"
      ],
      "metadata": {
        "id": "LzRDL5HpfD8i"
      }
    },
    {
      "cell_type": "markdown",
      "source": [
        "Prediction on training data"
      ],
      "metadata": {
        "id": "F1yLF_cCfIxH"
      }
    },
    {
      "cell_type": "code",
      "source": [
        "# training data\n",
        "traning_pred_model_01 = model_01.predict(x_train)\n"
      ],
      "metadata": {
        "id": "kxGpmKDnUGOz"
      },
      "execution_count": null,
      "outputs": []
    },
    {
      "cell_type": "code",
      "source": [
        "from sklearn.metrics import r2_score , mean_absolute_error"
      ],
      "metadata": {
        "id": "nd96wmvDUpuL"
      },
      "execution_count": null,
      "outputs": []
    },
    {
      "cell_type": "code",
      "source": [
        "r2_sc = r2_score(y_train,traning_pred_model_01)"
      ],
      "metadata": {
        "id": "Wcrez6LCUxg6"
      },
      "execution_count": null,
      "outputs": []
    },
    {
      "cell_type": "code",
      "source": [
        "mae_ = mean_absolute_error(y_train,traning_pred_model_01)"
      ],
      "metadata": {
        "id": "9TBPrkK0VQaO"
      },
      "execution_count": null,
      "outputs": []
    },
    {
      "cell_type": "code",
      "source": [
        "print('R2 Score for trainig data =',r2_sc , 'mean_absolute_error for trainig data =',mae_)"
      ],
      "metadata": {
        "id": "q42-khoKVlMA"
      },
      "execution_count": null,
      "outputs": []
    },
    {
      "cell_type": "markdown",
      "source": [
        "# Visualizing the actual Prices and predicted prices on training Data"
      ],
      "metadata": {
        "id": "IGug9bLvfdwG"
      }
    },
    {
      "cell_type": "code",
      "source": [
        "plt.scatter(y_train, traning_pred_model_01)\n",
        "plt.xlabel(\"Actual Prices\")\n",
        "plt.ylabel(\"Predicted Prices\")\n",
        "plt.title(\"Actual Price vs Preicted Price\")\n",
        "plt.show()"
      ],
      "metadata": {
        "id": "Zmu5oQ24XjQW"
      },
      "execution_count": null,
      "outputs": []
    },
    {
      "cell_type": "markdown",
      "source": [
        "Prediction on test data"
      ],
      "metadata": {
        "id": "ejBhzmGnfLlU"
      }
    },
    {
      "cell_type": "code",
      "source": [
        "# test data"
      ],
      "metadata": {
        "id": "UocxpTgcWSst"
      },
      "execution_count": null,
      "outputs": []
    },
    {
      "cell_type": "code",
      "source": [
        "test_pred_model_01 = model_01.predict(x_test)"
      ],
      "metadata": {
        "id": "lM2h0PECWe1j"
      },
      "execution_count": null,
      "outputs": []
    },
    {
      "cell_type": "code",
      "source": [
        "r2_sc_tst = r2_score(y_test,test_pred_model_01)"
      ],
      "metadata": {
        "id": "cDoORG87WV9Q"
      },
      "execution_count": null,
      "outputs": []
    },
    {
      "cell_type": "code",
      "source": [
        "mae_tst = mean_absolute_error(y_test,test_pred_model_01)"
      ],
      "metadata": {
        "id": "FhlX4D1jWWH9"
      },
      "execution_count": null,
      "outputs": []
    },
    {
      "cell_type": "code",
      "source": [
        "print('R2 Score for trainig data =',r2_sc_tst )\n",
        "print('mean_absolute_error for trainig data =',mae_tst)"
      ],
      "metadata": {
        "id": "jMNk4rZEWWLZ"
      },
      "execution_count": null,
      "outputs": []
    },
    {
      "cell_type": "markdown",
      "source": [
        "# Visualizing the actual Prices and predicted prices on test Data"
      ],
      "metadata": {
        "id": "8TySVfBlfS_i"
      }
    },
    {
      "cell_type": "code",
      "source": [
        "plt.scatter(y_test, test_pred_model_01)\n",
        "plt.xlabel(\"Actual Prices of test data\")\n",
        "plt.ylabel(\"Predicted Prices of predicted \")\n",
        "plt.title(\"Actual Price vs Preicted Price\")\n",
        "plt.show()"
      ],
      "metadata": {
        "id": "_wiI8Km5XuO9"
      },
      "execution_count": null,
      "outputs": []
    },
    {
      "cell_type": "markdown",
      "source": [
        "# Model Testing By Giving Data Set"
      ],
      "metadata": {
        "id": "gq7x-20IYL_o"
      }
    },
    {
      "cell_type": "code",
      "source": [
        "# Input Given = (2.5568, 18.0, 6.114035,\t1.315789, 356.0,\t3.122807, 39.49, -121.21)\n",
        "# Output will be = 0.771"
      ],
      "metadata": {
        "id": "CFEX61sVfqLo"
      },
      "execution_count": null,
      "outputs": []
    },
    {
      "cell_type": "code",
      "source": [
        "import numpy as np\n",
        "\n",
        "# Get input from user\n",
        "input_data = input('Enter the details: ')\n",
        "\n",
        "# Split the input data string into individual values\n",
        "input_values = [float(value.strip()) for value in input_data.split(',')]\n",
        "\n",
        "# Convert the input values to a numpy array\n",
        "data_as_array = np.array(input_values).reshape(1, -1)\n",
        "\n",
        "# Make a prediction using the model\n",
        "prediction = model_01.predict(data_as_array)\n",
        "\n",
        "print('Price of the house will be =',prediction)"
      ],
      "metadata": {
        "id": "H-5rJT08YMMP"
      },
      "execution_count": null,
      "outputs": []
    },
    {
      "cell_type": "markdown",
      "source": [
        "# After  trail and tested many values we get that  our model is predecting value nearrest to the output"
      ],
      "metadata": {
        "id": "1kkFrhNpf-zs"
      }
    },
    {
      "cell_type": "markdown",
      "source": [
        "# Hence we can say that our model is train (Not fully train thre might be some error but currently its showing its best result"
      ],
      "metadata": {
        "id": "TX_ZXlsKgOOq"
      }
    }
  ]
}